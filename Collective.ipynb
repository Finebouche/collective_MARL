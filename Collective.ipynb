{
 "cells": [
  {
   "cell_type": "code",
   "execution_count": null,
   "id": "959d1663",
   "metadata": {
    "tags": []
   },
   "outputs": [],
   "source": [
    "kajal = True\n",
    "try:\n",
    "    module(\"unload\", \"cuda/11.6\")\n",
    "    module(\"load\", \"cuda/11.4\")\n",
    "    module(\"load\",\"ffmpeg\")\n",
    "    module(\"list\")\n",
    "except: \n",
    "    kajal = False"
   ]
  },
  {
   "cell_type": "code",
   "execution_count": null,
   "id": "aa4d2ce8",
   "metadata": {
    "tags": []
   },
   "outputs": [],
   "source": [
    "import sys\n",
    "from pathlib import Path\n",
    "if kajal:\n",
    "    path_root = Path( '/cobra/u/kkumari/warp-drive')\n",
    "    sys.path.append(str(path_root))\n",
    "\n",
    "else:\n",
    "    path_root = Path( '/project_ghent/MARL/warp-drive/')\n",
    "    sys.path.append(str(path_root))\n",
    "    path_root = Path( '/project_ghent/MARL/collective_MARL/')\n",
    "    sys.path.append(str(path_root))\n",
    "print(sys.path)"
   ]
  },
  {
   "cell_type": "code",
   "execution_count": null,
   "id": "9f1bb9b0-6e18-47d9-b954-73f53b07dbfe",
   "metadata": {},
   "outputs": [],
   "source": [
    "# Log in to your W&B account\n",
    "import wandb\n",
    "\"90dc2cefddde123eaac0caae90161981ed969abe\"\n",
    "wandb.login()"
   ]
  },
  {
   "cell_type": "code",
   "execution_count": null,
   "id": "c242375b",
   "metadata": {
    "tags": []
   },
   "outputs": [],
   "source": [
    "import torch\n",
    "# assert torch.cuda.device_count() > 0, \"This notebook needs a GPU to run!\"\n",
    "\n",
    "from importlib import reload\n",
    "\n",
    "import logging\n",
    "# Set logger level e.g., DEBUG, INFO, WARNING, ERROR\n",
    "logger = logging.getLogger()\n",
    "logger.setLevel(logging.ERROR)\n",
    "\n",
    "# Load the run config.\n",
    "from config import run_config"
   ]
  },
  {
   "cell_type": "code",
   "execution_count": null,
   "id": "7ca44fe4",
   "metadata": {
    "tags": []
   },
   "outputs": [],
   "source": [
    "from warp_drive.utils.env_registrar import EnvironmentRegistrar\n",
    "from custom_env import CUDACustomEnv\n",
    "\n",
    "env_registrar = EnvironmentRegistrar()\n",
    "env_registrar.add_cuda_env_src_path(CUDACustomEnv.name, \"custom_env_step_numba\", env_backend=\"numba\")\n",
    "\n",
    "from warp_drive.env_wrapper import EnvWrapper\n",
    "from warp_drive.training.utils.device_child_process.child_process_base import event_messenger\n",
    "\n",
    "env_wrapper = EnvWrapper(\n",
    "    env_obj=CUDACustomEnv(**run_config[\"env\"]),\n",
    "    num_envs=run_config[\"trainer\"][\"num_envs\"],\n",
    "    env_backend=\"numba\",\n",
    "    env_registrar=env_registrar,\n",
    "    event_messenger=event_messenger,\n",
    "    process_id=0\n",
    ")\n",
    "\n",
    "from warp_drive.training.models.factory import ModelFactory\n",
    "\n",
    "model_factory = ModelFactory.add(\"predator_policy\", \"predator_policy\", \"PredatorPolicy\") \n",
    "model_factory = ModelFactory.add(\"prey_policy\", \"prey_policy\", \"PreyPolicy\") \n"
   ]
  },
  {
   "cell_type": "code",
   "execution_count": null,
   "id": "771b4f27",
   "metadata": {
    "tags": []
   },
   "outputs": [],
   "source": [
    "policy_tag_to_agent_id_map = {\n",
    "    \"predator\": list(env_wrapper.env.predators),\n",
    "    \"prey\": list(env_wrapper.env.preys),\n",
    "}"
   ]
  },
  {
   "cell_type": "code",
   "execution_count": null,
   "id": "47c25e51",
   "metadata": {
    "tags": []
   },
   "outputs": [],
   "source": [
    "from warp_drive.training.trainer_wandb import Trainer\n",
    "\n",
    "trainer = Trainer(\n",
    "    env_wrapper=env_wrapper,\n",
    "    config=run_config,\n",
    "    policy_tag_to_agent_id_map=policy_tag_to_agent_id_map,\n",
    "    device_id=0,\n",
    "    num_devices=1,\n",
    "    verbose=False\n",
    ")"
   ]
  },
  {
   "cell_type": "markdown",
   "id": "89381aec-bae2-47ef-b7cc-190f0906f672",
   "metadata": {},
   "source": [
    "### Train"
   ]
  },
  {
   "cell_type": "code",
   "execution_count": null,
   "id": "7e085bd9-d11d-489e-b25e-642170f27006",
   "metadata": {},
   "outputs": [],
   "source": [
    "trainer.train()"
   ]
  },
  {
   "cell_type": "markdown",
   "id": "b050f993-9383-4932-8b23-a67b7b5ae7be",
   "metadata": {},
   "source": [
    "### Load\n",
    "#### From local"
   ]
  },
  {
   "cell_type": "code",
   "execution_count": null,
   "id": "41ff6394",
   "metadata": {
    "tags": []
   },
   "outputs": [],
   "source": [
    "import os\n",
    "\n",
    "name = run_config[\"saving\"][\"name\"]\n",
    "tag = run_config[\"saving\"][\"tag\"]\n",
    "\n",
    "directory = f\"/tmp/{name}/{tag}\"\n",
    "files = os.listdir(directory)\n",
    "max_number = max([int(number) for number in files])\n",
    "\n",
    "total_lenght = run_config[\"env\"][\"episode_length\"]*run_config[\"trainer\"][\"num_episodes\"]\n",
    "\n",
    "trainer.load_model_checkpoint(\n",
    "    {\n",
    "        \"prey\": f\"/tmp/{name}/{tag}/{max_number}/prey_{total_lenght}.state_dict\",\n",
    "        \"predator\": f\"/tmp/{name}/{tag}/{max_number}/predator_{total_lenght}.state_dict\",\n",
    "    }\n",
    ")"
   ]
  },
  {
   "cell_type": "markdown",
   "id": "a4cedd8f-0744-4f38-9cee-7a75fad26253",
   "metadata": {},
   "source": [
    "#### from wandb"
   ]
  },
  {
   "cell_type": "code",
   "execution_count": null,
   "id": "d8a244db-9d73-47df-bcb3-d23d987956f3",
   "metadata": {},
   "outputs": [],
   "source": [
    "# Alternatively load from wandb\n",
    "run = wandb.init(project=\"rl_project\", entity=None, job_type='inference')\n",
    "total_lenght = run_config[\"env\"][\"episode_length\"]*run_config[\"trainer\"][\"num_episodes\"]\n",
    "\n",
    "for name in run_config[\"policy\"]:\n",
    "    print(name)\n",
    "    artifact = run.use_artifact(f'tcazalet_airo/rl_project/{name}:latest', type='model')\n",
    "    artifact_dir = artifact.download(root=f\"/tmp/{name}_state_dict\")\n",
    "wandb.finish()\n"
   ]
  },
  {
   "cell_type": "code",
   "execution_count": null,
   "id": "2673e90d-78f9-411d-9471-509a562c90ff",
   "metadata": {},
   "outputs": [],
   "source": [
    "trainer.load_model_checkpoint(\n",
    "    {\n",
    "        \"prey\": f\"/tmp/prey_state_dict/prey_{total_lenght}.state_dict\",\n",
    "        \"predator\": f\"/tmp/predator_state_dict/predator_{total_lenght}.state_dict\",\n",
    "    }\n",
    ")"
   ]
  },
  {
   "cell_type": "code",
   "execution_count": null,
   "id": "c9b19e4a",
   "metadata": {
    "tags": []
   },
   "outputs": [],
   "source": [
    "import animations\n",
    "reload(animations)\n",
    "from animations import generate_animation\n",
    "from IPython.display import HTML\n",
    "\n",
    "predator_size = run_config[\"env\"][\"predator_size\"]\n",
    "prey_size = run_config[\"env\"][\"prey_size\"]\n",
    "\n",
    "# Visualize the entire episode roll-out\n",
    "anim = generate_animation(trainer, predator_size=predator_size, prey_size=prey_size)"
   ]
  },
  {
   "cell_type": "code",
   "execution_count": null,
   "id": "f660e3c7-0432-49a9-aa42-3c320a177a85",
   "metadata": {},
   "outputs": [],
   "source": [
    "HTML(anim.to_html5_video())"
   ]
  },
  {
   "cell_type": "code",
   "execution_count": null,
   "id": "5e825730",
   "metadata": {
    "tags": []
   },
   "outputs": [],
   "source": [
    "# Close the trainer to clear up the CUDA memory heap\n",
    "trainer.graceful_close()"
   ]
  },
  {
   "cell_type": "code",
   "execution_count": null,
   "id": "e533717f",
   "metadata": {},
   "outputs": [],
   "source": []
  },
  {
   "cell_type": "code",
   "execution_count": null,
   "id": "ac977c86",
   "metadata": {},
   "outputs": [],
   "source": []
  },
  {
   "cell_type": "code",
   "execution_count": null,
   "id": "f5355d6a-697e-447a-a68c-555ef2608f10",
   "metadata": {},
   "outputs": [],
   "source": []
  }
 ],
 "metadata": {
  "kernelspec": {
   "display_name": "MARL_env",
   "language": "python",
   "name": "marl_env"
  },
  "language_info": {
   "codemirror_mode": {
    "name": "ipython",
    "version": 3
   },
   "file_extension": ".py",
   "mimetype": "text/x-python",
   "name": "python",
   "nbconvert_exporter": "python",
   "pygments_lexer": "ipython3",
   "version": "3.8.16"
  }
 },
 "nbformat": 4,
 "nbformat_minor": 5
}
